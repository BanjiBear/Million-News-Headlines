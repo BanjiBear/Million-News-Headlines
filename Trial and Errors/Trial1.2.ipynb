{
 "cells": [
  {
   "cell_type": "code",
   "execution_count": 1,
   "id": "925d746c",
   "metadata": {},
   "outputs": [],
   "source": [
    "import os\n",
    "\n",
    "import numpy as nrc_py\n",
    "import pandas as pnl_data\n",
    "from pandas import *\n",
    "import sklearn"
   ]
  },
  {
   "cell_type": "code",
   "execution_count": 2,
   "id": "09ca1930",
   "metadata": {},
   "outputs": [],
   "source": [
    "import random\n",
    "skipped = random.sample(range(1, 1226258), 1164945)"
   ]
  },
  {
   "cell_type": "code",
   "execution_count": 3,
   "id": "8dbe9afb",
   "metadata": {},
   "outputs": [
    {
     "name": "stdout",
     "output_type": "stream",
     "text": [
      "1164945\n",
      "<class 'list'>\n"
     ]
    }
   ],
   "source": [
    "print(len(skipped))\n",
    "print(type(skipped))"
   ]
  },
  {
   "cell_type": "code",
   "execution_count": 4,
   "id": "72de0a31",
   "metadata": {},
   "outputs": [],
   "source": [
    "def read_data_from_csv(path):\n",
    "\n",
    "    assert os.path.exists(path), f'File not found: {path}!'\n",
    "    assert os.path.splitext(path)[\n",
    "        -1] == '.csv', f'Unsupported file type {os.path.splitext(path)[-1]}!'\n",
    "\n",
    "    data = pnl_data.read_csv(path, skiprows=[i for i in skipped])\n",
    "    #column_list = data.columns.values.tolist()\n",
    "    #column_list.remove('publish_date')\n",
    "    #print(type(data))\n",
    "    \n",
    "    X = data['headline_text'].tolist()\n",
    "    text = data.headline_text.unique()\n",
    "    #print(data.headline_text.unique())\n",
    "    return X, text"
   ]
  },
  {
   "cell_type": "code",
   "execution_count": 5,
   "id": "9ad5a386",
   "metadata": {},
   "outputs": [],
   "source": [
    "# Downsize the dataset to the first 50K headlines (~5% samples)\n",
    "# 1226258 x 0.95 =~ 1164945"
   ]
  },
  {
   "cell_type": "code",
   "execution_count": 6,
   "id": "eccefe88",
   "metadata": {},
   "outputs": [],
   "source": [
    "data, text = read_data_from_csv(\"./abcnews-date-text.csv\")\n",
    "#print(X)"
   ]
  },
  {
   "cell_type": "code",
   "execution_count": 7,
   "id": "5afd195a",
   "metadata": {
    "scrolled": true
   },
   "outputs": [
    {
     "data": {
      "text/plain": [
       "array(['act fire witnesses must be aware of defamation',\n",
       "       'aussie qualifier stosur wastes four memphis match',\n",
       "       'direct anger at govt not soldiers crean urges', ...,\n",
       "       'coronavirus queensland hotel quarantine exemptions revealed',\n",
       "       'shortage of pickers critical; but wages abysmal',\n",
       "       'womens shed canberra reskilling unemployed pandemic'],\n",
       "      dtype=object)"
      ]
     },
     "execution_count": 7,
     "metadata": {},
     "output_type": "execute_result"
    }
   ],
   "source": [
    "text"
   ]
  },
  {
   "cell_type": "code",
   "execution_count": 8,
   "id": "a73a5cc6",
   "metadata": {},
   "outputs": [
    {
     "data": {
      "text/plain": [
       "list"
      ]
     },
     "execution_count": 8,
     "metadata": {},
     "output_type": "execute_result"
    }
   ],
   "source": [
    "type(data)"
   ]
  },
  {
   "cell_type": "code",
   "execution_count": 9,
   "id": "8e1a778f",
   "metadata": {},
   "outputs": [
    {
     "data": {
      "text/plain": [
       "numpy.ndarray"
      ]
     },
     "execution_count": 9,
     "metadata": {},
     "output_type": "execute_result"
    }
   ],
   "source": [
    "type(text)"
   ]
  },
  {
   "cell_type": "code",
   "execution_count": 10,
   "id": "4145f7cb",
   "metadata": {},
   "outputs": [
    {
     "name": "stdout",
     "output_type": "stream",
     "text": [
      "61313\n",
      "60675\n"
     ]
    }
   ],
   "source": [
    "print(len(data))\n",
    "print(len(text))"
   ]
  },
  {
   "cell_type": "code",
   "execution_count": 11,
   "id": "27419c9a",
   "metadata": {},
   "outputs": [
    {
     "data": {
      "text/plain": [
       "'\\ndata = []\\nfor i in range(50000):\\n    data.append(X[i])\\n'"
      ]
     },
     "execution_count": 11,
     "metadata": {},
     "output_type": "execute_result"
    }
   ],
   "source": [
    "\"\"\"\n",
    "data = []\n",
    "for i in range(50000):\n",
    "    data.append(X[i])\n",
    "\"\"\""
   ]
  },
  {
   "cell_type": "code",
   "execution_count": 12,
   "id": "73ea53f9",
   "metadata": {
    "scrolled": true
   },
   "outputs": [
    {
     "data": {
      "text/plain": [
       "'\\nprint(type(text))\\nprint(len(data))\\nprint(len(text))\\n'"
      ]
     },
     "execution_count": 12,
     "metadata": {},
     "output_type": "execute_result"
    }
   ],
   "source": [
    "\"\"\"\n",
    "print(type(text))\n",
    "print(len(data))\n",
    "print(len(text))\n",
    "\"\"\""
   ]
  },
  {
   "cell_type": "code",
   "execution_count": 13,
   "id": "32359ce1",
   "metadata": {},
   "outputs": [],
   "source": [
    "from sklearn.feature_extraction.text import CountVectorizer\n",
    "from sklearn.feature_extraction.text import TfidfTransformer\n",
    "from sklearn.feature_extraction.text import TfidfVectorizer\n",
    "\n",
    "import matplotlib.pyplot as plt\n",
    "from sklearn.cluster import KMeans"
   ]
  },
  {
   "cell_type": "code",
   "execution_count": 14,
   "id": "ffc8e4cf",
   "metadata": {},
   "outputs": [
    {
     "data": {
      "image/png": "[encoded data removed]",
      "text/plain": [
       "<Figure size 432x288 with 1 Axes>"
      ]
     },
     "metadata": {
      "needs_background": "light"
     },
     "output_type": "display_data"
    },
    {
     "name": "stdout",
     "output_type": "stream",
     "text": [
      "value of K: \n",
      "20\n"
     ]
    }
   ],
   "source": [
    "vectorizer = TfidfVectorizer(stop_words={'english'})\n",
    "X = vectorizer.fit_transform(text)\n",
    "\n",
    "Sum_of_squared_distances = []\n",
    "K = range(2,50)\n",
    "for k in K:\n",
    "    km = KMeans(n_clusters=k, max_iter=200, n_init=10)\n",
    "    km = km.fit(X)\n",
    "    Sum_of_squared_distances.append(km.inertia_)\n",
    "plt.plot(K, Sum_of_squared_distances, 'bx-')\n",
    "plt.xlabel('k')\n",
    "plt.ylabel('Sum_of_squared_distances')\n",
    "plt.title('Elbow Method For Optimal k')\n",
    "plt.show()\n",
    "\n",
    "print('value of K: ')\n",
    "true_k = int(input())"
   ]
  },
  {
   "cell_type": "code",
   "execution_count": 15,
   "id": "2757d691",
   "metadata": {},
   "outputs": [
    {
     "name": "stdout",
     "output_type": "stream",
     "text": [
      "                                                   title  cluster\n",
      "1      aussie qualifier stosur wastes four memphis match        0\n",
      "4                last minute call hands alinghi big lead        0\n",
      "10              forest alliance rejects hindrance claims        0\n",
      "11        landholder contribution still under discussion        0\n",
      "12            nt govt announces community benefit grants        0\n",
      "...                                                  ...      ...\n",
      "60655  donald trump and joe biden christmas messages ...        0\n",
      "60664  cate tregellas family secrets mallacoota bushf...        0\n",
      "60666                     how will brexit affect aussies        0\n",
      "60668     nt government coronavirus new case cattle ship        0\n",
      "60674  womens shed canberra reskilling unemployed pan...        0\n",
      "\n",
      "[18945 rows x 2 columns]\n",
      "                                                   title  cluster\n",
      "9                         drought taking toll on insects        1\n",
      "17       industrial action to impact on brisbane schools        1\n",
      "38                    bradman baggy green may go on tour        1\n",
      "59                 democrats urge action on smoking bans        1\n",
      "120             thorpe sets sights on more world records        1\n",
      "...                                                  ...      ...\n",
      "60545  argentina backflips on captain pablo matera ba...        1\n",
      "60551  evan lucas looks back on what was a wild ride for        1\n",
      "60633  mike pence gets covid 19 vaccine on live tv to...        1\n",
      "60646                      life a year on from bushfires        1\n",
      "60671  coronavirus covid 19 china wuhan cdc serologic...        1\n",
      "\n",
      "[3139 rows x 2 columns]\n",
      "                                                   title  cluster\n",
      "90     rumsfeld accuses us media of misleading the pu...        2\n",
      "106      pakistan zim drinking in the last chance saloon        2\n",
      "139         cosmetic surgery starts bringing up the rear        2\n",
      "179               toddler shot in the eye with air rifle        2\n",
      "193            share market falters to finish in the red        2\n",
      "...                                                  ...      ...\n",
      "60602  how the uq vaccine might help fight other dise...        2\n",
      "60628  taking china to the world trade organisation p...        2\n",
      "60652  christmas lunch the art of hospitality sharing...        2\n",
      "60653  donald trump has left the white house for chri...        2\n",
      "60669         us records deadliest month of the pandemic        2\n",
      "\n",
      "[2579 rows x 2 columns]\n",
      "                                                   title  cluster\n",
      "6                     nsw opp pledges 50m drought relief        3\n",
      "7         report highlights container terminal potential        3\n",
      "53           share market plunge with global uncertainty        3\n",
      "67                civic centre may go if hall eventuates        3\n",
      "68                        council backs sister city plan        3\n",
      "...                                                  ...      ...\n",
      "60630  australian grazing families buy properties chi...        3\n",
      "60635  nsw coronavirus new sydney venues and airport ...        3\n",
      "60638  victoria coronavirus aged care report contains...        3\n",
      "60639                     christmas day weather forecast        3\n",
      "60660  australian doctor us fears covid 19 surge cali...        3\n",
      "\n",
      "[3107 rows x 2 columns]\n",
      "                                                   title  cluster\n",
      "8               stations to get fixed home phone service        4\n",
      "22           woodgate told to stay away from elland road        4\n",
      "32         mirnyi slays federer to reach rotterdam final        4\n",
      "40            funding to improve crookwell canberra road        4\n",
      "44                     region goes from drought to flood        4\n",
      "...                                                  ...      ...\n",
      "60587  edinburgh gardens alcohol ban considered to fi...        4\n",
      "60610  medicare perpetuates inefficiency and needs to...        4\n",
      "60616  wild brumbies shot foal left to starve townsville        4\n",
      "60626  nsw coronavirus ten new cases bringing total t...        4\n",
      "60661  bom forecasts nsw sydney nye celebrations to b...        4\n",
      "\n",
      "[7025 rows x 2 columns]\n",
      "                                                   title  cluster\n",
      "18                        man in hospital after stabbing        5\n",
      "36         ses busy after flash floods in north west nsw        5\n",
      "50            krige to quit south africa after world cup        5\n",
      "76                 birds return to townsville after rain        5\n",
      "99         boyfriend in custody after policewomans death        5\n",
      "...                                                  ...      ...\n",
      "60412  tasmania hobart second hottest capital after d...        5\n",
      "60445  peru president resigns after protest deaths sp...        5\n",
      "60569  coronial inquest into scott martin murder afte...        5\n",
      "60576  lockhart farmer neil schirmers last harvest af...        5\n",
      "60656  pompei fast food tastes revealed after rome ex...        5\n",
      "\n",
      "[1523 rows x 2 columns]\n",
      "                                                   title  cluster\n",
      "5            new zealand imposes visa entry for zimbabwe        6\n",
      "13                      seaman injury crisis for arsenal        6\n",
      "15      bartlett vows to block govt plans for sa nuclear        6\n",
      "16                 federal funds sought for wave studies        6\n",
      "24        deputy says iraq is ready for dialogue with us        6\n",
      "...                                                  ...      ...\n",
      "60585  regional council accepts westpac compensation ...        6\n",
      "60596  onkaparinga council calls for statewide approa...        6\n",
      "60612    china fishery fears for torres strait islanders        6\n",
      "60624          alice springs man fined for trapping cats        6\n",
      "60657  australias joint strike fighters ready for dep...        6\n",
      "\n",
      "[5371 rows x 2 columns]\n",
      "                                                   title  cluster\n",
      "42                  police may reopen double murder case        7\n",
      "95          police deny arresting 50 zimbabwe opposition        7\n",
      "125       police to be questioned over missing documents        7\n",
      "144            police probe crash attempted bank robbery        7\n",
      "206         police urge parents to teach stranger danger        7\n",
      "...                                                  ...      ...\n",
      "60606      police rescue man from burning unit in mackay        7\n",
      "60636  police search man assault teen jet ski altona ...        7\n",
      "60647      no permanent officers angurugu police station        7\n",
      "60648     police shot dead and injured in central france        7\n",
      "60667  nsw police fine sydney northern beaches weddin...        7\n",
      "\n",
      "[1725 rows x 2 columns]\n",
      "                                                   title  cluster\n",
      "83       teen charged with attempted murder of policeman        8\n",
      "114                 man charged over port kembla assault        8\n",
      "129                 third person charged over mans death        8\n",
      "189               man charged with murder of missing man        8\n",
      "222                  enron executives charged with fraud        8\n",
      "...                                                  ...      ...\n",
      "60083  sydney swans player elijah taylor charged with...        8\n",
      "60101  second man charged over alleged bashing murder...        8\n",
      "60527  husband charged with murder over womans death ...        8\n",
      "60556  more people charged over weston brawl that kil...        8\n",
      "60583  laos man charged over coffs coast cannabis ope...        8\n",
      "\n",
      "[562 rows x 2 columns]\n",
      "                                                   title  cluster\n",
      "21     rain in nsw a welcome relief but drought not over        9\n",
      "62                ruddock seeks greater power over atsic        9\n",
      "84         two jailed for life over elderly womans death        9\n",
      "115              man faces court over babys manslaughter        9\n",
      "118          san francisco top cop resigns over cover up        9\n",
      "...                                                  ...      ...\n",
      "60467  canberra women urges government screen breast ...        9\n",
      "60521  chance president donald trump could be impeach...        9\n",
      "60555  ivanka trump investigated over misuse of donor...        9\n",
      "60588  joe bidens son hunter facing federal investiga...        9\n",
      "60665          driver arrested over monash freeway crash        9\n",
      "\n",
      "[1980 rows x 2 columns]\n",
      "                                                   title  cluster\n",
      "157             queensland splits cloning stem cell bill       10\n",
      "573    virgin blue lands in broome with new budget se...       10\n",
      "673                      council to consider budget plan       10\n",
      "828            claims csiro amis set for budget shake up       10\n",
      "839                    limited spending budget for wagga       10\n",
      "...                                                  ...      ...\n",
      "60544  queensland qfes commissioner greg leach bushfi...       10\n",
      "60561  mal lion enjoys a milk ice block during queens...       10\n",
      "60607       queensland storm yaroomba seafoam beach rain       10\n",
      "60620     homelessness to increase in central queensland       10\n",
      "60672  coronavirus queensland hotel quarantine exempt...       10\n",
      "\n",
      "[624 rows x 2 columns]\n",
      "                                                   title  cluster\n",
      "8821                              mark gasnier interview       11\n",
      "8958           interview andrew flintoff and shane warne       11\n",
      "9181            interview ricky stuart and wayne bennett       11\n",
      "9470                      interview disappointed dragons       11\n",
      "13478                             interview mike gatting       11\n",
      "...                                                  ...      ...\n",
      "59433               extended interview with nicki hutley       11\n",
      "59665              extended interview with danielle wood       11\n",
      "59882  geoffrey gordon adams murder trial hears polic...       11\n",
      "60204                              lahnee chen interview       11\n",
      "60254               extended interview with daniel hynes       11\n",
      "\n",
      "[629 rows x 2 columns]\n",
      "                                                   title  cluster\n",
      "25         gurkhas discrimination case fails in uk court       12\n",
      "26                     johnson pittman excel in canberra       12\n",
      "31                 freeman expected to race in melbourne       12\n",
      "35                       pilot dies in ultralight plunge       12\n",
      "37               waugh expected to play in one day final       12\n",
      "...                                                  ...      ...\n",
      "60599           far right proud boys march in washington       12\n",
      "60617  asylum seekers held in a melbourne hotel moved...       12\n",
      "60650  nt christmas in howard springs coronavirus qua...       12\n",
      "60658  girl scouts rebuke boy scouts in escalating re...       12\n",
      "60670       where to celebrate new years eve in tasmania       12\n",
      "\n",
      "[4572 rows x 2 columns]\n",
      "                                                   title  cluster\n",
      "489        woodbridge arthurs guide australia into semis       13\n",
      "548        australia in front as ponting langer hit tons       13\n",
      "631                     chanderpaul out as australia bat       13\n",
      "668                   australia gears up for fed cup tie       13\n",
      "807                      soccer australia chairman quits       13\n",
      "...                                                  ...      ...\n",
      "60560  coronavirus australia live news wa mandatory q...       13\n",
      "60564  changing climate of coal mining australia envi...       13\n",
      "60644  coronavirus australia live news covid 19 lates...       13\n",
      "60651  two coronavirus cases identified in south aust...       13\n",
      "60662  coronavirus australia live returned traveller ...       13\n",
      "\n",
      "[795 rows x 2 columns]\n",
      "                                                   title  cluster\n",
      "33      odriscoll captures record as ireland downs italy       14\n",
      "86                 alinghi march delayed by postponement       14\n",
      "94                 palestinian girl hit by stray bullets       14\n",
      "149      forsyth leads by one in dubai red hot els lurks       14\n",
      "185         darwin harbour closed as cyclone craig nears       14\n",
      "...                                                  ...      ...\n",
      "60614  grassfires big risk for victorians as summer a...       14\n",
      "60619  bushfire victims sheltering in tents battered ...       14\n",
      "60622  sa hocking woolgrowers baggy green campaign as...       14\n",
      "60625  how womens cricket is being influenced by majo...       14\n",
      "60642  no new coronavirus cases recorded in sa as tes...       14\n",
      "\n",
      "[1622 rows x 2 columns]\n",
      "                                                   title  cluster\n",
      "146    wa opposition wants police station list made p...       15\n",
      "211               claim wa govt health review not needed       15\n",
      "455                       wa women being tested for sars       15\n",
      "605       wa govt gets saleyards expressions of interest       15\n",
      "635                  rowers begin record attempt from wa       15\n",
      "...                                                  ...      ...\n",
      "60447  treasurer ben wyatt confirms retirement at 202...       15\n",
      "60489  opposition liberal leader zac kirkup promises ...       15\n",
      "60577  new research disturbing truth wa south coast b...       15\n",
      "60600  wa police investigate stabbing death of 17 yea...       15\n",
      "60663  wa hotel quarantine security guards to be give...       15\n",
      "\n",
      "[660 rows x 2 columns]\n",
      "                                                   title  cluster\n",
      "23             clp confident of winning lower house seat       16\n",
      "46            wheat board confident of future iraq trade       16\n",
      "58      consultants question value of free trade with us       16\n",
      "113         hooper hints change of rules may be required       16\n",
      "123        marseille come out on top in battle of french       16\n",
      "...                                                  ...      ...\n",
      "60603  images of birds caught in salmon nets prompt c...       16\n",
      "60634  andrews says lack of oversight of hotel quaran...       16\n",
      "60641             more education needed ahead of vaccine       16\n",
      "60643  nsw man guilty of manslaughter home invader sa...       16\n",
      "60673    shortage of pickers critical; but wages abysmal       16\n",
      "\n",
      "[3159 rows x 2 columns]\n",
      "                                                   title  cluster\n",
      "0         act fire witnesses must be aware of defamation       17\n",
      "3           griffiths under fire over project knock back       17\n",
      "166     ammunition concerns hampered shooting range fire       17\n",
      "257      aboriginal elders assist arnhem fire management       17\n",
      "314                      us marines halted by iraqi fire       17\n",
      "...                                                  ...      ...\n",
      "60285  melbourne victoria fire season regional land p...       17\n",
      "60392        cobraball fire farmers one year anniversary       17\n",
      "60484  gladys berejiklian under fire for working afte...       17\n",
      "60566  fire fraser island kingfisher bay resort prepa...       17\n",
      "60613           fire in hemmant paper warehouse brisbane       17\n",
      "\n",
      "[744 rows x 2 columns]\n",
      "                                                   title  cluster\n",
      "2          direct anger at govt not soldiers crean urges       18\n",
      "136        british conductor takes up head post at opera       18\n",
      "180          us soldiers spotted at saudi arabia airport       18\n",
      "214       plan to acquire land at portsea moves one step       18\n",
      "218    warning shots fired at turkish anti us protesters       18\n",
      "...                                                  ...      ...\n",
      "60381     full speech of donald trump at the white house       18\n",
      "60621  long lines form at northern beaches sydney cov...       18\n",
      "60627  taekwondo competitors win medals at virtual ch...       18\n",
      "60637  tyler wright wins historic first event at hawa...       18\n",
      "60659  india goes from test laughing stock to appeali...       18\n",
      "\n",
      "[1575 rows x 2 columns]\n",
      "                                                   title  cluster\n",
      "692                govt quiet on sex slavery allegations       19\n",
      "785        maitland mayor underage sex charges dismissed       19\n",
      "790             woman admits errors at mayor sex hearing       19\n",
      "878            police seek 3 men over child sex offences       19\n",
      "924                        doctor denies sex allegations       19\n",
      "...                                                  ...      ...\n",
      "58901  brazilian fabricio da silva accused of filming...       19\n",
      "59107  george pell wins high court appeal child sex a...       19\n",
      "59246                         how green is your sex life       19\n",
      "60300  james griffin launceston nurse child sex abuse...       19\n",
      "60557  tasmanian government worker stood down over se...       19\n",
      "\n",
      "[339 rows x 2 columns]\n"
     ]
    }
   ],
   "source": [
    "model = KMeans(n_clusters=true_k, init='k-means++', max_iter=200, n_init=10)\n",
    "model.fit(X)\n",
    "\n",
    "labels=model.labels_\n",
    "clusters=pnl_data.DataFrame(list(zip(text,labels)),columns=['title','cluster'])\n",
    "#print(clusters.sort_values(by=['cluster']))\n",
    "\n",
    "for i in range(true_k):\n",
    "    print(clusters[clusters['cluster'] == i])"
   ]
  },
  {
   "cell_type": "code",
   "execution_count": 16,
   "id": "ed68794d",
   "metadata": {},
   "outputs": [
    {
     "data": {
      "text/plain": [
       "pandas.core.frame.DataFrame"
      ]
     },
     "execution_count": 16,
     "metadata": {},
     "output_type": "execute_result"
    }
   ],
   "source": [
    "type(clusters)"
   ]
  },
  {
   "cell_type": "code",
   "execution_count": 17,
   "id": "db4e7dff",
   "metadata": {},
   "outputs": [
    {
     "data": {
      "text/html": [
       "<div>\n",
       "<style scoped>\n",
       "    .dataframe tbody tr th:only-of-type {\n",
       "        vertical-align: middle;\n",
       "    }\n",
       "\n",
       "    .dataframe tbody tr th {\n",
       "        vertical-align: top;\n",
       "    }\n",
       "\n",
       "    .dataframe thead th {\n",
       "        text-align: right;\n",
       "    }\n",
       "</style>\n",
       "<table border=\"1\" class=\"dataframe\">\n",
       "  <thead>\n",
       "    <tr style=\"text-align: right;\">\n",
       "      <th></th>\n",
       "      <th>title</th>\n",
       "      <th>cluster</th>\n",
       "    </tr>\n",
       "  </thead>\n",
       "  <tbody>\n",
       "    <tr>\n",
       "      <th>0</th>\n",
       "      <td>act fire witnesses must be aware of defamation</td>\n",
       "      <td>17</td>\n",
       "    </tr>\n",
       "    <tr>\n",
       "      <th>1</th>\n",
       "      <td>aussie qualifier stosur wastes four memphis match</td>\n",
       "      <td>0</td>\n",
       "    </tr>\n",
       "    <tr>\n",
       "      <th>2</th>\n",
       "      <td>direct anger at govt not soldiers crean urges</td>\n",
       "      <td>18</td>\n",
       "    </tr>\n",
       "    <tr>\n",
       "      <th>3</th>\n",
       "      <td>griffiths under fire over project knock back</td>\n",
       "      <td>17</td>\n",
       "    </tr>\n",
       "    <tr>\n",
       "      <th>4</th>\n",
       "      <td>last minute call hands alinghi big lead</td>\n",
       "      <td>0</td>\n",
       "    </tr>\n",
       "    <tr>\n",
       "      <th>...</th>\n",
       "      <td>...</td>\n",
       "      <td>...</td>\n",
       "    </tr>\n",
       "    <tr>\n",
       "      <th>60670</th>\n",
       "      <td>where to celebrate new years eve in tasmania</td>\n",
       "      <td>12</td>\n",
       "    </tr>\n",
       "    <tr>\n",
       "      <th>60671</th>\n",
       "      <td>coronavirus covid 19 china wuhan cdc serologic...</td>\n",
       "      <td>1</td>\n",
       "    </tr>\n",
       "    <tr>\n",
       "      <th>60672</th>\n",
       "      <td>coronavirus queensland hotel quarantine exempt...</td>\n",
       "      <td>10</td>\n",
       "    </tr>\n",
       "    <tr>\n",
       "      <th>60673</th>\n",
       "      <td>shortage of pickers critical; but wages abysmal</td>\n",
       "      <td>16</td>\n",
       "    </tr>\n",
       "    <tr>\n",
       "      <th>60674</th>\n",
       "      <td>womens shed canberra reskilling unemployed pan...</td>\n",
       "      <td>0</td>\n",
       "    </tr>\n",
       "  </tbody>\n",
       "</table>\n",
       "<p>60675 rows × 2 columns</p>\n",
       "</div>"
      ],
      "text/plain": [
       "                                                   title  cluster\n",
       "0         act fire witnesses must be aware of defamation       17\n",
       "1      aussie qualifier stosur wastes four memphis match        0\n",
       "2          direct anger at govt not soldiers crean urges       18\n",
       "3           griffiths under fire over project knock back       17\n",
       "4                last minute call hands alinghi big lead        0\n",
       "...                                                  ...      ...\n",
       "60670       where to celebrate new years eve in tasmania       12\n",
       "60671  coronavirus covid 19 china wuhan cdc serologic...        1\n",
       "60672  coronavirus queensland hotel quarantine exempt...       10\n",
       "60673    shortage of pickers critical; but wages abysmal       16\n",
       "60674  womens shed canberra reskilling unemployed pan...        0\n",
       "\n",
       "[60675 rows x 2 columns]"
      ]
     },
     "execution_count": 17,
     "metadata": {},
     "output_type": "execute_result"
    }
   ],
   "source": [
    "clusters"
   ]
  },
  {
   "cell_type": "code",
   "execution_count": null,
   "id": "a562b4c7",
   "metadata": {},
   "outputs": [],
   "source": [
    "#https://medium.com/kuzok/news-documents-clustering-using-python-latent-semantic-analysis-b95c7b68861c\n",
    "#https://www.researchgate.net/figure/Example-of-the-elbow-criterion-applied-over-the-curve-of-within-class-sum-of-squares-per_fig1_281443471"
   ]
  }
 ],
 "metadata": {
  "kernelspec": {
   "display_name": "Python 3",
   "language": "python",
   "name": "python3"
  },
  "language_info": {
   "codemirror_mode": {
    "name": "ipython",
    "version": 3
   },
   "file_extension": ".py",
   "mimetype": "text/x-python",
   "name": "python",
   "nbconvert_exporter": "python",
   "pygments_lexer": "ipython3",
   "version": "3.8.8"
  }
 },
 "nbformat": 4,
 "nbformat_minor": 5
}
