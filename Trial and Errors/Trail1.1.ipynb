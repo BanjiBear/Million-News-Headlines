{
 "cells": [
  {
   "cell_type": "code",
   "execution_count": 1,
   "id": "925d746c",
   "metadata": {},
   "outputs": [],
   "source": [
    "import os\n",
    "\n",
    "import numpy as nrc_py\n",
    "import pandas as pnl_data\n",
    "from pandas import *\n",
    "import sklearn"
   ]
  },
  {
   "cell_type": "code",
   "execution_count": 2,
   "id": "72de0a31",
   "metadata": {},
   "outputs": [],
   "source": [
    "def read_data_from_csv(path):\n",
    "\n",
    "    assert os.path.exists(path), f'File not found: {path}!'\n",
    "    assert os.path.splitext(path)[\n",
    "        -1] == '.csv', f'Unsupported file type {os.path.splitext(path)[-1]}!'\n",
    "\n",
    "    data = pnl_data.read_csv(path, skiprows=[i for i in range(1,1164946)])\n",
    "    #column_list = data.columns.values.tolist()\n",
    "    #column_list.remove('publish_date')\n",
    "    #print(type(data))\n",
    "    \n",
    "    X = data['headline_text'].tolist()\n",
    "    text = data.headline_text.unique()\n",
    "    #print(data.headline_text.unique())\n",
    "    return X, text"
   ]
  },
  {
   "cell_type": "code",
   "execution_count": 3,
   "id": "3e69bfef",
   "metadata": {},
   "outputs": [],
   "source": [
    "# Downsize the dataset to the first 50K headlines (~5% samples)\n",
    "# 1226258 x 0.95 =~ 1164945"
   ]
  },
  {
   "cell_type": "code",
   "execution_count": 4,
   "id": "9ae739a7",
   "metadata": {},
   "outputs": [],
   "source": [
    "data, text = read_data_from_csv(\"./abcnews-date-text.csv\")\n",
    "#print(X)"
   ]
  },
  {
   "cell_type": "code",
   "execution_count": 5,
   "id": "50d41214",
   "metadata": {
    "scrolled": true
   },
   "outputs": [
    {
     "data": {
      "text/plain": [
       "array(['nrl panthers warriors broncos roosters scorecentre',\n",
       "       'nrl responds to jack de belin verdict',\n",
       "       'nurse sentenced to community service over botched breast surgery',\n",
       "       ...,\n",
       "       'what victorias coronavirus restrictions mean for new years eve',\n",
       "       'whats life like as an american doctor during covid',\n",
       "       'womens shed canberra reskilling unemployed pandemic'],\n",
       "      dtype=object)"
      ]
     },
     "execution_count": 5,
     "metadata": {},
     "output_type": "execute_result"
    }
   ],
   "source": [
    "text"
   ]
  },
  {
   "cell_type": "code",
   "execution_count": 6,
   "id": "7c5dcf72",
   "metadata": {},
   "outputs": [
    {
     "data": {
      "text/plain": [
       "list"
      ]
     },
     "execution_count": 6,
     "metadata": {},
     "output_type": "execute_result"
    }
   ],
   "source": [
    "type(data)"
   ]
  },
  {
   "cell_type": "code",
   "execution_count": 7,
   "id": "f11f1699",
   "metadata": {},
   "outputs": [
    {
     "data": {
      "text/plain": [
       "numpy.ndarray"
      ]
     },
     "execution_count": 7,
     "metadata": {},
     "output_type": "execute_result"
    }
   ],
   "source": [
    "type(text)"
   ]
  },
  {
   "cell_type": "code",
   "execution_count": 8,
   "id": "601fa9f4",
   "metadata": {},
   "outputs": [
    {
     "name": "stdout",
     "output_type": "stream",
     "text": [
      "61313\n",
      "59969\n"
     ]
    }
   ],
   "source": [
    "print(len(data))\n",
    "print(len(text))"
   ]
  },
  {
   "cell_type": "code",
   "execution_count": 9,
   "id": "222e60d2",
   "metadata": {},
   "outputs": [
    {
     "data": {
      "text/plain": [
       "'\\ndata = []\\nfor i in range(50000):\\n    data.append(X[i])\\n'"
      ]
     },
     "execution_count": 9,
     "metadata": {},
     "output_type": "execute_result"
    }
   ],
   "source": [
    "\"\"\"\n",
    "data = []\n",
    "for i in range(50000):\n",
    "    data.append(X[i])\n",
    "\"\"\""
   ]
  },
  {
   "cell_type": "code",
   "execution_count": 10,
   "id": "de7c4ae0",
   "metadata": {
    "scrolled": true
   },
   "outputs": [
    {
     "data": {
      "text/plain": [
       "'\\nprint(type(text))\\nprint(len(data))\\nprint(len(text))\\n'"
      ]
     },
     "execution_count": 10,
     "metadata": {},
     "output_type": "execute_result"
    }
   ],
   "source": [
    "\"\"\"\n",
    "print(type(text))\n",
    "print(len(data))\n",
    "print(len(text))\n",
    "\"\"\""
   ]
  },
  {
   "cell_type": "code",
   "execution_count": 11,
   "id": "7d4b9420",
   "metadata": {},
   "outputs": [],
   "source": [
    "from sklearn.feature_extraction.text import CountVectorizer\n",
    "from sklearn.feature_extraction.text import TfidfTransformer\n",
    "from sklearn.feature_extraction.text import TfidfVectorizer\n",
    "\n",
    "import matplotlib.pyplot as plt\n",
    "from sklearn.cluster import KMeans"
   ]
  },
  {
   "cell_type": "code",
   "execution_count": 12,
   "id": "b60345fc",
   "metadata": {},
   "outputs": [],
   "source": [
    "def K_means_clustering(text):\n",
    "    vectorizer = TfidfVectorizer(stop_words={'english'})\n",
    "    X = vectorizer.fit_transform(text)\n",
    "\n",
    "    Sum_of_squared_distances = []\n",
    "    K = range(2,50)\n",
    "    for k in K:\n",
    "       km = KMeans(n_clusters=k, max_iter=200, n_init=10)\n",
    "       km = km.fit(X)\n",
    "       Sum_of_squared_distances.append(km.inertia_)\n",
    "    plt.plot(K, Sum_of_squared_distances, 'bx-')\n",
    "    plt.xlabel('k')\n",
    "    plt.ylabel('Sum_of_squared_distances')\n",
    "    plt.title('Elbow Method For Optimal k')\n",
    "    plt.show()\n",
    "\n",
    "    print('How many clusters do you want to use?')\n",
    "    true_k = int(input())\n",
    "    model = KMeans(n_clusters=true_k, init='k-means++', max_iter=200, n_init=10)\n",
    "    model.fit(X)\n",
    "\n",
    "    labels=model.labels_\n",
    "    clusters=pnl_data.DataFrame(list(zip(text,labels)),columns=['title','cluster'])\n",
    "    #print(clusters.sort_values(by=['cluster']))\n",
    "\n",
    "    for i in range(true_k):\n",
    "        print(clusters[clusters['cluster'] == i])\n",
    "        \n",
    "    return"
   ]
  },
  {
   "cell_type": "code",
   "execution_count": 13,
   "id": "919cd2f1",
   "metadata": {
    "scrolled": false
   },
   "outputs": [
    {
     "data": {
      "image/png": "[encoded data removed]",
      "text/plain": [
       "<Figure size 432x288 with 1 Axes>"
      ]
     },
     "metadata": {
      "needs_background": "light"
     },
     "output_type": "display_data"
    },
    {
     "name": "stdout",
     "output_type": "stream",
     "text": [
      "How many clusters do you want to use?\n",
      "24\n",
      "                                                   title  cluster\n",
      "0      nrl panthers warriors broncos roosters scorece...        0\n",
      "3      olympic cyclist jack bobridge found guilty of ...        0\n",
      "4      one hour workers one hour employment jobs unem...        0\n",
      "7                paul keating reflects hawke era reforms        0\n",
      "9      perth father admits sleepover sexual abuse chi...        0\n",
      "...                                                  ...      ...\n",
      "59953        tasmania christmas carnival runner profiles        0\n",
      "59955  two men injured during castle hill sydney arme...        0\n",
      "59959  wa families reconsider vic travel plans amid b...        0\n",
      "59967  whats life like as an american doctor during c...        0\n",
      "59968  womens shed canberra reskilling unemployed pan...        0\n",
      "\n",
      "[19854 rows x 2 columns]\n",
      "                                                   title  cluster\n",
      "21473  who says new china coronavirus could spread; w...        1\n",
      "21665  thailand finds second case of new chinese coro...        1\n",
      "21803    coronavirus chinese pneumonia mystery explainer        1\n",
      "21970   brisbane man cleared of coronavirus by lab tests        1\n",
      "21978  coronavirus death toll climbs to nine chinese ...        1\n",
      "...                                                  ...      ...\n",
      "59894  asx closes lower as coronavirus fears grow gol...        1\n",
      "59905  coronavirus queensland hotel quarantine exempt...        1\n",
      "59919         jobseeker coronavirus supplement january 1        1\n",
      "59926  new coronavirus restrictions for victorians ma...        1\n",
      "59949           sports in 2020 amid coronavirus pandemic        1\n",
      "\n",
      "[3937 rows x 2 columns]\n",
      "                                                   title  cluster\n",
      "47          antony green looks at 10 percent of the vote        2\n",
      "86        greg jennett interviews john howard at liberal        2\n",
      "93           man allegedly stabbed at polling booth site        2\n",
      "156          kate miller heidke performs zero gravity at        2\n",
      "159                  madonna performs at eurovision 2019        2\n",
      "...                                                  ...      ...\n",
      "59861  police presence boosted at wa coronavirus quar...        2\n",
      "59884  wa open border with vic at risk after melbourn...        2\n",
      "59895   at least 20 killed in explosion at yemen airport        2\n",
      "59898  blast and gunfire at aden yemen airport fatali...        2\n",
      "59920                 koala hits the beach at apollo bay        2\n",
      "\n",
      "[1737 rows x 2 columns]\n",
      "                                                   title  cluster\n",
      "344    nsw police officer describes moment he shot mo...        3\n",
      "359                  salim mehajer walks out of nsw jail        3\n",
      "522    chris minns announces tilt for nsw labor leade...        3\n",
      "755    luke keary to miss state origin one for nsw blues        3\n",
      "837    high profile nsw homicide detective gary jubel...        3\n",
      "...                                                  ...      ...\n",
      "59928  nsw police search for armed men in castle hill...        3\n",
      "59929  nsw premier urges people to avoid super spread...        3\n",
      "59942  sa border restrictions in response to nsw coro...        3\n",
      "59943  sa to impose hard border with nsw from new yea...        3\n",
      "59948  south east nsw locals say farewell to 2020 aft...        3\n",
      "\n",
      "[1457 rows x 2 columns]\n",
      "                                                   title  cluster\n",
      "271    sydney morning briefing dave sharma tipped to ...        4\n",
      "368               sydney morning briefing tuesday may 21        4\n",
      "483             sydney morning briefing wednesday may 22        4\n",
      "583                      sydney briefing thursday may 23        4\n",
      "698                sydney morning briefing friday may 24        4\n",
      "...                                                  ...      ...\n",
      "57702                morning briefing tuesday december 8        4\n",
      "57876       sydney morning briefing wednesday december 9        4\n",
      "58022       sydney morning briefing thursday december 10        4\n",
      "58143         sydney morning briefing friday december 11        4\n",
      "59493                           queensland news briefing        4\n",
      "\n",
      "[395 rows x 2 columns]\n",
      "                                                   title  cluster\n",
      "480    strangulation offences domestic violence cases...        5\n",
      "11190  surge in new cases of lung disease silicosis a...        5\n",
      "21693  china reports new virus cases raising concern ...        5\n",
      "22202  coronavirus spreading with new cases reported ...        5\n",
      "22441  four possible cases of coronavirus under inves...        5\n",
      "...                                                  ...      ...\n",
      "59871  three new coronavirus cases in sa hotel quaran...        5\n",
      "59918    japan reports record new cases on new years eve        5\n",
      "59924   more covid cases expected to emerge in melbourne        5\n",
      "59957  victoria coronavirus nye restrictions announce...        5\n",
      "59961  wa reintroduces hard border with victoria afte...        5\n",
      "\n",
      "[774 rows x 2 columns]\n",
      "                                                   title  cluster\n",
      "35     us president donald trump hopes to avoid war w...        6\n",
      "206    donald trumps blasts justin amash impeachment ...        6\n",
      "432    donald trump hosts pacific leaders at white house        6\n",
      "491    trump xi jinping china united states relations...        6\n",
      "560       nancy pelosi accuses donald trump of a coverup        6\n",
      "...                                                  ...      ...\n",
      "59652  us unemployment benefits for millions in limbo...        6\n",
      "59676  donald trump signs coronavirus relief bill int...        6\n",
      "59794  us house of representatives approves donald tr...        6\n",
      "59881  us republican leader urges senate to override ...        6\n",
      "59909  donald trump 2000 demand dismissed by republic...        6\n",
      "\n",
      "[918 rows x 2 columns]\n",
      "                                                   title  cluster\n",
      "24     taiwan legalises same sex marriage; a first in...        7\n",
      "32     threat of fire in tasmania world heritage list...        7\n",
      "34     us fighter jet crashes into building in califo...        7\n",
      "42     youth justice overhaul in wake of watch house ...        7\n",
      "44     afl coaches in control despite constant rule c...        7\n",
      "...                                                  ...      ...\n",
      "59925  mujeeb five for in vain as heat lose to hurric...        7\n",
      "59935  oxford astrazeneca vaccine authorised in uk br...        7\n",
      "59947          six things that shaped queensland in 2020        7\n",
      "59950  striking christmas bells bloom in abundance br...        7\n",
      "59962  well preserved ice age woolly rhino found in s...        7\n",
      "\n",
      "[4647 rows x 2 columns]\n",
      "                                                   title  cluster\n",
      "8      people who own guns illegally cause the gun crime        8\n",
      "11                                       pic of the week        8\n",
      "27                                the drum friday may 17        8\n",
      "28                                 the real bill shorten        8\n",
      "31     these are the ways people protest against voti...        8\n",
      "...                                                  ...      ...\n",
      "59806  2020 pop culture quiz schitts creek the crown ...        8\n",
      "59870   the un australian history of the flip flop thong        8\n",
      "59880         us records deadliest month of the pandemic        8\n",
      "59897     being able to stay in care after the age of 18        8\n",
      "59900  boris johnson announces new restrictions for m...        8\n",
      "\n",
      "[3318 rows x 2 columns]\n",
      "                                                   title  cluster\n",
      "21     steven hainsworth charged with beverley hanley...        9\n",
      "46     alleged stabbing with corkscrew in warringah e...        9\n",
      "57     deep in the outback with australian doomsday p...        9\n",
      "94     markets report: market activity and analysis with        9\n",
      "138    election results tony abbott lived and died wi...        9\n",
      "...                                                  ...      ...\n",
      "59791   travelling with a disability and wheelchair tips        9\n",
      "59843  man charged with murdering ballarat mother kob...        9\n",
      "59875  uber settles with delivery driver who claimed ...        9\n",
      "59876       uber settles with driver sacked for being 10        9\n",
      "59954                thursday finance with elysse morgan        9\n",
      "\n",
      "[1745 rows x 2 columns]\n",
      "                                                   title  cluster\n",
      "79     food storange how to store fresh fruit and veg...       10\n",
      "89           how abc election night coverage has evolved       10\n",
      "137           election results how labor lost queensland       10\n",
      "149    federal election results how the polls got it ...       10\n",
      "324                  how queensland changed the election       10\n",
      "...                                                  ...      ...\n",
      "59721  why you are checking work emails and how to st...       10\n",
      "59739  coronavirus pandemic effect on small businesse...       10\n",
      "59837  how nsw covid cluster border closures affect t...       10\n",
      "59838                     how will brexit affect aussies       10\n",
      "59914  how australians are celebrating new years eve ...       10\n",
      "\n",
      "[790 rows x 2 columns]\n",
      "                                                   title  cluster\n",
      "103         pub formerly owned by don hancock burns down       11\n",
      "308    dragons support de belins challenge to nrl sta...       11\n",
      "476      senior trump administration officials talk down       11\n",
      "646           emeroo station will shut down over funding       11\n",
      "807    beaufort street shuts up shop as mt lawley bus...       11\n",
      "...                                                  ...      ...\n",
      "58972  watered down russia sports ban devastating blo...       11\n",
      "59145  dan andrews rules out stepping down after coat...       11\n",
      "59331  warning on christmas debt but credit cards pai...       11\n",
      "59422        tasmanian state service employee stood down       11\n",
      "59923  mica creek power station shuts down after 60 y...       11\n",
      "\n",
      "[466 rows x 2 columns]\n",
      "                                                   title  cluster\n",
      "114    afl port adelaide gold coast richmond hawthorn...       12\n",
      "365    sunshine coast daily front page prompts complaint       12\n",
      "458    large gold nugget found near kalgoorlie as gol...       12\n",
      "894    bull sharks at night mudjimba dog beach sunshi...       12\n",
      "1221             humpback whales birthing off gold coast       12\n",
      "...                                                  ...      ...\n",
      "59006  helen delaney cancer gold coast immunotherapy ...       12\n",
      "59117  victoria to declare sydney central coast coron...       12\n",
      "59258  gold coast welcomes hard border but covid clin...       12\n",
      "59460                   diver dies off coast of rottnest       12\n",
      "59638  mid north coast woman bitten by a snake shares...       12\n",
      "\n",
      "[676 rows x 2 columns]\n",
      "                                                   title  cluster\n",
      "2      nurse sentenced to community service over botc...       13\n",
      "5        one punch attacker sentenced over act caught on       13\n",
      "26     teachers voting no confidence in union over wa...       13\n",
      "58     disagreement over whether its too soon to call...       13\n",
      "133    election 2019 over what now for scott morrison...       13\n",
      "...                                                  ...      ...\n",
      "59795  user price of new cancer drug slashed by over ...       13\n",
      "59801  wa: questions over wa hotel quarantine after w...       13\n",
      "59839  jason holder gives sixers parting gift with wi...       13\n",
      "59874  two nsw men sentenced over tyron beauchamp murder       13\n",
      "59915      hurricanes take one run victory over heat bbl       13\n",
      "\n",
      "[1640 rows x 2 columns]\n",
      "                                                   title  cluster\n",
      "330     joe biden democrats top hope remove donald trump       14\n",
      "465    north korea takes aim joe biden over kim jong ...       14\n",
      "2920   elizabeth warren rivalling bernie sanders joe ...       14\n",
      "3927   senator kamala harris and former vp joe biden ...       14\n",
      "9038   the controversial crime bill that joe biden he...       14\n",
      "...                                                  ...      ...\n",
      "59565                    biden trump christmas addresses       14\n",
      "59576  donald trump and joe biden christmas messages ...       14\n",
      "59731  biden accuses trump of weakening us security a...       14\n",
      "59762  joe biden trump administration obstruction pow...       14\n",
      "59840  joe biden says it will take years to vaccinate...       14\n",
      "\n",
      "[329 rows x 2 columns]\n",
      "                                                   title  cluster\n",
      "20        sorting fact from fiction in the 2019 election       15\n",
      "64               eurovision 2019 from tel aviv live blog       15\n",
      "326    indigenous bones returned from overseas reveal...       15\n",
      "337    miss westralias journey from sheep station to ...       15\n",
      "363      speed flyers launch from active russian volcano       15\n",
      "...                                                  ...      ...\n",
      "59860              nt wetlands centre to close from 2021       15\n",
      "59901  brexit to strip opportunity from australian du...       15\n",
      "59913  five bodies recovered from remote png landslid...       15\n",
      "59963  what a league separation from football austral...       15\n",
      "59964  what abc readers learned from 2020 looking bac...       15\n",
      "\n",
      "[1593 rows x 2 columns]\n",
      "                                                   title  cluster\n",
      "141          fatal crash brisbane multi vehicle two dead       16\n",
      "160    madonna roasted over car crash eurovision perf...       16\n",
      "321                helicopter crash kakadu national park       16\n",
      "457    kakadu chopper crash victim critical expected ...       16\n",
      "524    darwin father killed in horror double fatal cr...       16\n",
      "...                                                  ...      ...\n",
      "59603  tas 14 year old killed in motorcycle crash in ...       16\n",
      "59723  18yo in fatal crash on sunshine coast in alleg...       16\n",
      "59771  pilot dies in light plane crash at serpentine ...       16\n",
      "59803     west gate freeway crash in melbourne docklands       16\n",
      "59831          driver arrested over monash freeway crash       16\n",
      "\n",
      "[513 rows x 2 columns]\n",
      "                                                   title  cluster\n",
      "77     federal election voting scott morrison bill sh...       17\n",
      "117    annabel crabb election result 2019 scott morri...       17\n",
      "136    election nigel scullion praise scott morrison ...       17\n",
      "171               scott morrison claims election victory       17\n",
      "172                       scott morrisons coalition wins       17\n",
      "...                                                  ...      ...\n",
      "59186  paul kelly scott morrison sydney outbreak vacc...       17\n",
      "59500  scott morrison anthony albanese christmas mess...       17\n",
      "59501  scott morrison applauds australians for amazin...       17\n",
      "59940    prime minister scott morrison new years message       17\n",
      "59944  scott morrison says vaccine key step into reco...       17\n",
      "\n",
      "[481 rows x 2 columns]\n",
      "                                                   title  cluster\n",
      "10     perth glory set for a league grand final again...       18\n",
      "17     sa paedophile ruecha tokputza jailed for 40 years       18\n",
      "30            theresa may to set timetable for departure       18\n",
      "83     game of thrones season 8 episode 6 predictions...       18\n",
      "90     joel salatin an ideas salesman for alternative...       18\n",
      "...                                                  ...      ...\n",
      "59819  cambodia trial for former australian mp hong l...       18\n",
      "59828  cricket australia aiming for half capacity for...       18\n",
      "59887  wild swimming and the search for australias be...       18\n",
      "59952  swim surf dive daily cleanse good for health a...       18\n",
      "59966  what victorias coronavirus restrictions mean f...       18\n",
      "\n",
      "[3837 rows x 2 columns]\n",
      "                                                   title  cluster\n",
      "252                 nsw labor leadership battle heats up       19\n",
      "390     why sydney is snapping up $700 hair appointments       19\n",
      "426    construction woes deepen as work continues to ...       19\n",
      "467          palaszczuk says community fed up over adani       19\n",
      "495            warringah tony abbott zali steggal get up       19\n",
      "...                                                  ...      ...\n",
      "59060  cattle farmer fed up after waiting 12 months f...       19\n",
      "59109      tim blake carving up waves on the arafura sea       19\n",
      "59150  former nsw health employees say patient abuse ...       19\n",
      "59879  up to 15 suspected dead in papua new guinea la...       19\n",
      "59912  feral camels fattening up in south australia f...       19\n",
      "\n",
      "[655 rows x 2 columns]\n",
      "                                                   title  cluster\n",
      "19     social media popularity australian election wh...       20\n",
      "41     working polling stations election voting day o...       20\n",
      "43     1969 federal election was comedy of errors in ...       20\n",
      "55                   chief election analyst antony green       20\n",
      "60                           election 2019 campaign quiz       20\n",
      "...                                                  ...      ...\n",
      "59858     nt government coronavirus new case cattle ship       20\n",
      "59859    nt government sydney hotspot status coronavirus       20\n",
      "59931           nt covid northern territory darwin cases       20\n",
      "59932  nt declares greater metropolitan sydney as a c...       20\n",
      "59941  record cattle prices and big rain ends 2020 fo...       20\n",
      "\n",
      "[1172 rows x 2 columns]\n",
      "                                                   title  cluster\n",
      "16     rwandan massacre victim family kept in dark on...       21\n",
      "33         tony abbott refuses to elaborate on bob hawke       21\n",
      "39                        who will take on trump in 2020       21\n",
      "85                    getting on top of the winter blues       21\n",
      "95     meghan markle listed as princess on archies bi...       21\n",
      "...                                                  ...      ...\n",
      "59665  black summer bushfire survivors rebuild twelve...       21\n",
      "59712  syrian refugees flee lebanese camp after tents...       21\n",
      "59869         tas injured wedge tailed eagle one year on       21\n",
      "59938  polish immigrant ryszard ziebicki reflects on ...       21\n",
      "59956  victoria closing new south wales border on fri...       21\n",
      "\n",
      "[2621 rows x 2 columns]\n",
      "                                                   title  cluster\n",
      "1                  nrl responds to jack de belin verdict       22\n",
      "6             one punch attacker sentenced to five years       22\n",
      "29     theresa may to set departure timetable as bori...       22\n",
      "38                   what happens to a baby during birth       22\n",
      "65     farmers use regenerative agriculture to fuel b...       22\n",
      "...                                                  ...      ...\n",
      "59847  mitch mcconnell urges senate to override trump...       22\n",
      "59865     sixers climb to top of big bash thunder second       22\n",
      "59933  orbost secondary college vce students rise to ...       22\n",
      "59936  paul kelly says vaccines not an alternative to...       22\n",
      "59960  wa health minister says state will close its b...       22\n",
      "\n",
      "[4651 rows x 2 columns]\n",
      "                                                   title  cluster\n",
      "175                           sunday 19 may full program       23\n",
      "750                         india fire kills 19 students       23\n",
      "5780                              planet america 19 july       23\n",
      "8635                       tasmania news brief 19 august       23\n",
      "24127  coronavirus covid 19 travel ban extension impl...       23\n",
      "...                                                  ...      ...\n",
      "59930  nsw south coast shoalhaven tourist boom despit...       23\n",
      "59934  oxford astrazeneca covid 19 vaccine roll out i...       23\n",
      "59937   police ramp up ahead of sydney new year covid 19       23\n",
      "59958  victorias acting premier state recorded three ...       23\n",
      "59965  what are the south african and uk variants of ...       23\n",
      "\n",
      "[1763 rows x 2 columns]\n"
     ]
    }
   ],
   "source": [
    "K_means_clustering(text)"
   ]
  },
  {
   "cell_type": "code",
   "execution_count": null,
   "id": "e9960f5c",
   "metadata": {},
   "outputs": [],
   "source": []
  }
 ],
 "metadata": {
  "kernelspec": {
   "display_name": "Python 3",
   "language": "python",
   "name": "python3"
  },
  "language_info": {
   "codemirror_mode": {
    "name": "ipython",
    "version": 3
   },
   "file_extension": ".py",
   "mimetype": "text/x-python",
   "name": "python",
   "nbconvert_exporter": "python",
   "pygments_lexer": "ipython3",
   "version": "3.8.8"
  }
 },
 "nbformat": 4,
 "nbformat_minor": 5
}
